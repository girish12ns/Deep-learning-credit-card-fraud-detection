{
 "cells": [
  {
   "cell_type": "code",
   "execution_count": 1,
   "metadata": {},
   "outputs": [],
   "source": [
    "import os"
   ]
  },
  {
   "cell_type": "code",
   "execution_count": 2,
   "metadata": {},
   "outputs": [
    {
     "data": {
      "text/plain": [
       "'e:\\\\Deep-learning-credit-card-fraud-detection\\\\research'"
      ]
     },
     "execution_count": 2,
     "metadata": {},
     "output_type": "execute_result"
    }
   ],
   "source": [
    "%pwd"
   ]
  },
  {
   "cell_type": "code",
   "execution_count": 3,
   "metadata": {},
   "outputs": [],
   "source": [
    "os.chdir('../')"
   ]
  },
  {
   "cell_type": "code",
   "execution_count": 4,
   "metadata": {},
   "outputs": [
    {
     "data": {
      "text/plain": [
       "'e:\\\\Deep-learning-credit-card-fraud-detection'"
      ]
     },
     "execution_count": 4,
     "metadata": {},
     "output_type": "execute_result"
    }
   ],
   "source": [
    "%pwd"
   ]
  },
  {
   "cell_type": "code",
   "execution_count": 5,
   "metadata": {},
   "outputs": [],
   "source": [
    "from pathlib import Path\n",
    "from dataclasses import dataclass\n",
    "\n",
    "@dataclass(frozen=True)\n",
    "class DataingestionConfig:\n",
    "    root_dir :Path\n",
    "    source_dir :Path\n",
    "    train_dir :Path\n",
    "    test_dir : Path"
   ]
  },
  {
   "cell_type": "code",
   "execution_count": 12,
   "metadata": {},
   "outputs": [],
   "source": [
    "from src.card_fraud_detection.utilis.commmon import create_directories\n",
    "from src.card_fraud_detection.utilis.commmon import read_yaml\n",
    "from src.card_fraud_detection.constants import config_file_path,params_file_path"
   ]
  },
  {
   "cell_type": "code",
   "execution_count": 17,
   "metadata": {},
   "outputs": [
    {
     "data": {
      "text/plain": [
       "'e:\\\\Deep-learning-credit-card-fraud-detection'"
      ]
     },
     "execution_count": 17,
     "metadata": {},
     "output_type": "execute_result"
    }
   ],
   "source": [
    "%pwd"
   ]
  },
  {
   "cell_type": "code",
   "execution_count": 20,
   "metadata": {},
   "outputs": [],
   "source": [
    "class Confuguration:\n",
    "    def __init__(self,confi_path=config_file_path,params_path=params_file_path):\n",
    "        self.config=read_yaml(confi_path)\n",
    "        self.params=read_yaml(params_path)\n",
    "\n",
    "        create_directories([self.config.Artifacts])\n",
    "\n",
    "    def get_data_ingestion_config(self)->DataingestionConfig:\n",
    "        data_ingestion=self.config.Data_ingestion\n",
    "        \n",
    "\n",
    "        create_directories([data_ingestion.root_dir])\n",
    "      \n",
    "        data_ingestion=DataingestionConfig(\n",
    "            root_dir=data_ingestion.root_dir,\n",
    "            source_dir=data_ingestion.source_dir,\n",
    "            train_dir=data_ingestion.train_dir,\n",
    "            test_dir =data_ingestion.test_dir\n",
    "        )\n",
    "        return data_ingestion"
   ]
  },
  {
   "cell_type": "code",
   "execution_count": 21,
   "metadata": {},
   "outputs": [],
   "source": [
    "import pandas as pd\n",
    "from sklearn.model_selection import train_test_split\n"
   ]
  },
  {
   "cell_type": "code",
   "execution_count": 24,
   "metadata": {},
   "outputs": [],
   "source": [
    "class Dataingestion:\n",
    "    def __init__(self,config):\n",
    "        self.config = config\n",
    "\n",
    "    def get_data(self):\n",
    "\n",
    "        df=pd.read_csv(self.config.source_dir)\n",
    "\n",
    "        train_df,test_df= train_test_split(df,test_size=0.2,random_state=42)\n",
    "\n",
    "        train_df.to_csv(self.config.train_dir,header=True,index=False)\n",
    "\n",
    "        test_df.to_csv(self.config.test_dir,header=True,index=False)\n",
    "\n",
    "        return (self.config.train_dir,\n",
    "                self.config.test_dir)"
   ]
  },
  {
   "cell_type": "code",
   "execution_count": 25,
   "metadata": {},
   "outputs": [
    {
     "data": {
      "text/plain": [
       "False"
      ]
     },
     "execution_count": 25,
     "metadata": {},
     "output_type": "execute_result"
    }
   ],
   "source": [
    "os.path.exists('artifacts\\data_ingestion\\train.csv')"
   ]
  },
  {
   "cell_type": "code",
   "execution_count": 26,
   "metadata": {},
   "outputs": [
    {
     "name": "stdout",
     "output_type": "stream",
     "text": [
      "[2023-08-30 05:12:55,049: INFO: commmon: file created]\n",
      "[2023-08-30 05:12:55,057: INFO: commmon: file created]\n"
     ]
    },
    {
     "name": "stdout",
     "output_type": "stream",
     "text": [
      "DataingestionConfig(root_dir='artifacts/data_ingestion', source_dir='DATA_BOOK\\\\DATA\\\\CREDIT_CARD_DETECTION.csv', train_dir='artifacts/data_ingestion/train.csv', test_dir='artifacts/data_ingestion/test.csv')\n"
     ]
    }
   ],
   "source": [
    "data_ingestion_config=Confuguration()\n",
    "\n",
    "config=data_ingestion_config.get_data_ingestion_config()\n",
    "\n",
    "print(config)\n",
    "\n",
    "data_ingestion=Dataingestion(config)\n",
    "\n",
    "train_set,test_set=data_ingestion.get_data()\n",
    "\n",
    "\n"
   ]
  }
 ],
 "metadata": {
  "kernelspec": {
   "display_name": "Python 3",
   "language": "python",
   "name": "python3"
  },
  "language_info": {
   "codemirror_mode": {
    "name": "ipython",
    "version": 3
   },
   "file_extension": ".py",
   "mimetype": "text/x-python",
   "name": "python",
   "nbconvert_exporter": "python",
   "pygments_lexer": "ipython3",
   "version": "3.8.0"
  },
  "orig_nbformat": 4
 },
 "nbformat": 4,
 "nbformat_minor": 2
}
