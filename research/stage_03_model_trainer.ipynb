{
 "cells": [
  {
   "cell_type": "code",
   "execution_count": 1,
   "metadata": {},
   "outputs": [],
   "source": [
    "import os"
   ]
  },
  {
   "cell_type": "code",
   "execution_count": 2,
   "metadata": {},
   "outputs": [
    {
     "data": {
      "text/plain": [
       "'e:\\\\Deep-learning-credit-card-fraud-detection\\\\research'"
      ]
     },
     "execution_count": 2,
     "metadata": {},
     "output_type": "execute_result"
    }
   ],
   "source": [
    "%pwd"
   ]
  },
  {
   "cell_type": "code",
   "execution_count": 3,
   "metadata": {},
   "outputs": [],
   "source": [
    "os.chdir('../')"
   ]
  },
  {
   "cell_type": "code",
   "execution_count": 4,
   "metadata": {},
   "outputs": [
    {
     "data": {
      "text/plain": [
       "'e:\\\\Deep-learning-credit-card-fraud-detection'"
      ]
     },
     "execution_count": 4,
     "metadata": {},
     "output_type": "execute_result"
    }
   ],
   "source": [
    "%pwd"
   ]
  },
  {
   "cell_type": "code",
   "execution_count": 5,
   "metadata": {},
   "outputs": [],
   "source": [
    "from pathlib import Path\n",
    "from dataclasses import dataclass\n",
    "\n",
    "@dataclass(frozen=True)\n",
    "class Model_trainerConfig:\n",
    "    root_dir :Path\n",
    "    model_dir :Path\n",
    "    train_dir :Path\n",
    "    test_dir : Path\n",
    "    processor_dir :Path\n"
   ]
  },
  {
   "cell_type": "code",
   "execution_count": 6,
   "metadata": {},
   "outputs": [],
   "source": [
    "from src.card_fraud_detection.utilis.commmon import create_directories,save_model\n",
    "from src.card_fraud_detection.utilis.commmon import read_yaml\n",
    "from src.card_fraud_detection.constants import config_file_path,params_file_path"
   ]
  },
  {
   "cell_type": "code",
   "execution_count": 8,
   "metadata": {},
   "outputs": [],
   "source": [
    "class Confuguration:\n",
    "    def __init__(self,confi_path=config_file_path,params_path=params_file_path):\n",
    "        self.config=read_yaml(confi_path)\n",
    "        self.params=read_yaml(params_path)\n",
    "\n",
    "        create_directories([self.config.Artifacts])\n",
    "\n",
    "    def get_model_trainer_config(self)->Model_trainerConfig:\n",
    "        trainer=self.config.Model_trainer\n",
    "        ingestion =self.config.Data_ingestion\n",
    "        transformation=self.config.data_transformation\n",
    "\n",
    "        create_directories([trainer.root_dir])\n",
    "\n",
    "        trainer=Model_trainerConfig(\n",
    "            root_dir=trainer.root_dir,\n",
    "            model_dir=trainer.model_dir,\n",
    "            train_dir=ingestion.train_dir,\n",
    "            test_dir=ingestion.test_dir,\n",
    "            processor_dir= transformation.processor_dir\n",
    "        )\n",
    "        return trainer\n"
   ]
  },
  {
   "cell_type": "code",
   "execution_count": 13,
   "metadata": {},
   "outputs": [],
   "source": [
    "from tensorflow.keras.models import Sequential\n",
    "from tensorflow.keras.layers import Dense,Dropout,Activation\n",
    "import tensorflow as tf\n",
    "import pandas as pd"
   ]
  },
  {
   "cell_type": "code",
   "execution_count": 21,
   "metadata": {},
   "outputs": [],
   "source": [
    "class Model_trainer:\n",
    "    def __init__(self,config):\n",
    "        self.config=config\n",
    "\n",
    "    def get_data_trainer(self):\n",
    "\n",
    "        x_train=pd.read_csv(self.config.train_dr)\n",
    "\n",
    "\n",
    "        model=Sequential()\n",
    "        model.add(Dense(64,activation='relu',input_dim=x_train.shape[1]))\n",
    "        model.add(Dense(64,activation='relu'))\n",
    "        model.add(Dense(1,activation='sigmoid'))\n",
    "\n",
    "        model.compile(optimizer='adam',loss=tf.keras.losses.BinaryCrossentropy(),metrics=tf.keras.metrics.Recall(\n",
    "        thresholds=None, top_k=None, class_id=None, name=None, dtype=None))\n",
    "        return model\n",
    "\n",
    "    def model_trainer_initiated(self,x_train,y_train,x_test,y_test):\n",
    "        model=self.get_data_trainer()\n",
    "        histroy=model.fit(x_train,y_train,batch_size=120,epochs=30)\n",
    "\n",
    "        save_model(filepath=self.config.model_dir,obj=model)\n",
    "        return histroy"
   ]
  },
  {
   "cell_type": "code",
   "execution_count": 18,
   "metadata": {},
   "outputs": [],
   "source": [
    "from src.card_fraud_detection.component.data_transformation import DataTransformation"
   ]
  },
  {
   "cell_type": "code",
   "execution_count": 20,
   "metadata": {},
   "outputs": [
    {
     "name": "stdout",
     "output_type": "stream",
     "text": [
      "[2023-08-30 15:43:49,926: INFO: commmon: file created]\n",
      "[2023-08-30 15:43:49,928: INFO: commmon: file created]\n"
     ]
    },
    {
     "name": "stdout",
     "output_type": "stream",
     "text": [
      "(235670, 163)\n",
      "(235670, 1)\n",
      "Epoch 1/30\n",
      "1964/1964 [==============================] - 10s 4ms/step - loss: 0.0101 - recall_2: 0.9585\n",
      "Epoch 2/30\n",
      "1964/1964 [==============================] - 7s 4ms/step - loss: 3.0789e-04 - recall_2: 0.9968\n",
      "Epoch 3/30\n",
      "1964/1964 [==============================] - 7s 4ms/step - loss: 2.1124e-04 - recall_2: 0.9977\n",
      "Epoch 4/30\n",
      "1964/1964 [==============================] - 7s 3ms/step - loss: 2.1700e-04 - recall_2: 0.9972\n",
      "Epoch 5/30\n",
      "1964/1964 [==============================] - 7s 4ms/step - loss: 2.1903e-04 - recall_2: 0.9979\n",
      "Epoch 6/30\n",
      "1964/1964 [==============================] - 7s 3ms/step - loss: 1.7613e-04 - recall_2: 0.9979\n",
      "Epoch 7/30\n",
      "1964/1964 [==============================] - 7s 4ms/step - loss: 1.7690e-04 - recall_2: 0.9982\n",
      "Epoch 8/30\n",
      "1964/1964 [==============================] - 9s 4ms/step - loss: 1.6811e-04 - recall_2: 0.9979\n",
      "Epoch 9/30\n",
      "1964/1964 [==============================] - 8s 4ms/step - loss: 1.8995e-04 - recall_2: 0.9979\n",
      "Epoch 10/30\n",
      "1964/1964 [==============================] - 7s 4ms/step - loss: 1.6111e-04 - recall_2: 0.9982\n",
      "Epoch 11/30\n",
      "1964/1964 [==============================] - 8s 4ms/step - loss: 1.3251e-04 - recall_2: 0.9984\n",
      "Epoch 12/30\n",
      "1964/1964 [==============================] - 8s 4ms/step - loss: 1.5362e-04 - recall_2: 0.9984\n",
      "Epoch 13/30\n",
      "1964/1964 [==============================] - 8s 4ms/step - loss: 1.5755e-04 - recall_2: 0.9977\n",
      "Epoch 14/30\n",
      "1964/1964 [==============================] - 8s 4ms/step - loss: 1.4513e-04 - recall_2: 0.9986\n",
      "Epoch 15/30\n",
      "1964/1964 [==============================] - 9s 5ms/step - loss: 1.2075e-04 - recall_2: 0.9984\n",
      "Epoch 16/30\n",
      "1964/1964 [==============================] - 9s 4ms/step - loss: 1.1551e-04 - recall_2: 0.9989\n",
      "Epoch 17/30\n",
      "1964/1964 [==============================] - 9s 4ms/step - loss: 1.4534e-04 - recall_2: 0.9989\n",
      "Epoch 18/30\n",
      "1964/1964 [==============================] - 9s 4ms/step - loss: 1.0603e-04 - recall_2: 0.9982\n",
      "Epoch 19/30\n",
      "1964/1964 [==============================] - 9s 5ms/step - loss: 1.1221e-04 - recall_2: 0.9989\n",
      "Epoch 20/30\n",
      "1964/1964 [==============================] - 9s 5ms/step - loss: 1.0635e-04 - recall_2: 0.9993\n",
      "Epoch 21/30\n",
      "1964/1964 [==============================] - 9s 5ms/step - loss: 1.1713e-04 - recall_2: 0.9991\n",
      "Epoch 22/30\n",
      "1964/1964 [==============================] - 9s 5ms/step - loss: 7.2576e-05 - recall_2: 0.9989\n",
      "Epoch 23/30\n",
      "1964/1964 [==============================] - 9s 5ms/step - loss: 1.3085e-04 - recall_2: 0.9989\n",
      "Epoch 24/30\n",
      "1964/1964 [==============================] - 9s 5ms/step - loss: 9.2141e-05 - recall_2: 0.9991\n",
      "Epoch 25/30\n",
      "1964/1964 [==============================] - 9s 5ms/step - loss: 1.0329e-04 - recall_2: 0.9989\n",
      "Epoch 26/30\n",
      "1964/1964 [==============================] - 11s 6ms/step - loss: 1.1552e-04 - recall_2: 0.9984\n",
      "Epoch 27/30\n",
      "1964/1964 [==============================] - 10s 5ms/step - loss: 7.1595e-05 - recall_2: 0.9998\n",
      "Epoch 28/30\n",
      "1964/1964 [==============================] - 9s 5ms/step - loss: 1.1077e-04 - recall_2: 0.9986\n",
      "Epoch 29/30\n",
      "1964/1964 [==============================] - 10s 5ms/step - loss: 1.0483e-04 - recall_2: 0.9989\n",
      "Epoch 30/30\n",
      "1964/1964 [==============================] - 9s 5ms/step - loss: 1.2008e-04 - recall_2: 0.9989\n",
      "<keras.src.callbacks.History object at 0x00000195041738E0>\n"
     ]
    }
   ],
   "source": [
    "try:\n",
    "    trainer_config=Confuguration()\n",
    "    config=trainer_config.get_model_trainer_config()\n",
    "\n",
    "    data_trans=DataTransformation(config=config)\n",
    "    x_train,y_train,x_test,y_test=data_trans.data_transformation_initiated()\n",
    "\n",
    "\n",
    "\n",
    "    model_trainer=Model_trainer(config=config)\n",
    "\n",
    "    histroy=model_trainer.model_trainer_initiated(x_train=x_train,x_test=x_test,y_train=y_train,y_test=y_test)\n",
    "\n",
    "    print(histroy)\n",
    "\n",
    "except Exception as e:\n",
    "    raise e"
   ]
  }
 ],
 "metadata": {
  "kernelspec": {
   "display_name": "Python 3",
   "language": "python",
   "name": "python3"
  },
  "language_info": {
   "codemirror_mode": {
    "name": "ipython",
    "version": 3
   },
   "file_extension": ".py",
   "mimetype": "text/x-python",
   "name": "python",
   "nbconvert_exporter": "python",
   "pygments_lexer": "ipython3",
   "version": "3.8.0"
  },
  "orig_nbformat": 4
 },
 "nbformat": 4,
 "nbformat_minor": 2
}
