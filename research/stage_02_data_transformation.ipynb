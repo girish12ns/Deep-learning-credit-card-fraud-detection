{
 "cells": [
  {
   "cell_type": "code",
   "execution_count": 3,
   "metadata": {},
   "outputs": [],
   "source": [
    "import os"
   ]
  },
  {
   "cell_type": "code",
   "execution_count": 4,
   "metadata": {},
   "outputs": [
    {
     "data": {
      "text/plain": [
       "'e:\\\\Deep-learning-credit-card-fraud-detection\\\\research'"
      ]
     },
     "execution_count": 4,
     "metadata": {},
     "output_type": "execute_result"
    }
   ],
   "source": [
    "%pwd"
   ]
  },
  {
   "cell_type": "code",
   "execution_count": 5,
   "metadata": {},
   "outputs": [],
   "source": [
    "os.chdir('../')"
   ]
  },
  {
   "cell_type": "code",
   "execution_count": 6,
   "metadata": {},
   "outputs": [
    {
     "data": {
      "text/plain": [
       "'e:\\\\Deep-learning-credit-card-fraud-detection'"
      ]
     },
     "execution_count": 6,
     "metadata": {},
     "output_type": "execute_result"
    }
   ],
   "source": [
    "%pwd"
   ]
  },
  {
   "cell_type": "code",
   "execution_count": 8,
   "metadata": {},
   "outputs": [],
   "source": [
    "from pathlib import Path\n",
    "from dataclasses import dataclass\n",
    "\n",
    "@dataclass(frozen=True)\n",
    "class DataTransformationConfig:\n",
    "    root_dir:Path\n",
    "    processor_dir :Path\n",
    "    train_dir :Path\n",
    "    test_dir :Path\n",
    "\n",
    "    "
   ]
  },
  {
   "cell_type": "code",
   "execution_count": 9,
   "metadata": {},
   "outputs": [],
   "source": [
    "from src.card_fraud_detection.utilis.commmon import create_directories,save_model\n",
    "from src.card_fraud_detection.utilis.commmon import read_yaml\n",
    "from src.card_fraud_detection.constants import config_file_path,params_file_path"
   ]
  },
  {
   "cell_type": "code",
   "execution_count": 11,
   "metadata": {},
   "outputs": [],
   "source": [
    "class Confuguration:\n",
    "    def __init__(self,confi_path=config_file_path,params_path=params_file_path):\n",
    "        self.config=read_yaml(confi_path)\n",
    "        self.params=read_yaml(params_path)\n",
    "\n",
    "        create_directories([self.config.Artifacts])\n",
    "\n",
    "    def data_transformation_config(self)->DataTransformationConfig:\n",
    "        transformation=self.config.data_transformation\n",
    "        ingestion=self.config.Data_ingestion\n",
    "\n",
    "        create_directories([transformation.root_dir])\n",
    "\n",
    "        data_transformation=DataTransformationConfig(\n",
    "            root_dir=transformation.root_dir,\n",
    "            processor_dir=transformation.processor_dir,\n",
    "            train_dir=ingestion.train_dir,\n",
    "            test_dir=ingestion.test_dir\n",
    "\n",
    "        )\n",
    "        return data_transformation"
   ]
  },
  {
   "cell_type": "code",
   "execution_count": 13,
   "metadata": {},
   "outputs": [],
   "source": [
    "from sklearn.pipeline import Pipeline\n",
    "from sklearn.preprocessing import StandardScaler,OneHotEncoder\n",
    "from sklearn.compose import ColumnTransformer\n",
    "from sklearn.impute import SimpleImputer\n",
    "import pandas as pd"
   ]
  },
  {
   "cell_type": "code",
   "execution_count": 18,
   "metadata": {},
   "outputs": [],
   "source": [
    "class DataTransformation:\n",
    "    def __init__(self,config):\n",
    "        self.config = config\n",
    "\n",
    "    def get_the_data_transformation(self):\n",
    "\n",
    "        cat_features =['city','state']\n",
    "        numerical_features= ['transaction_dollar_amount','Long','Lat','credit_card_limit']\n",
    "\n",
    "        num_pip=Pipeline(steps=[\n",
    "            ('impueter',SimpleImputer(strategy='mean')),\n",
    "            ('scaler',StandardScaler())])\n",
    "        cat_pip=Pipeline(steps=[\n",
    "            ('impueter',SimpleImputer(strategy='most_frequent')),\n",
    "            ('coder',OneHotEncoder())\n",
    "            ])\n",
    "        preprocessor=ColumnTransformer([\n",
    "            ('num_pip',num_pip,numerical_features),\n",
    "            ('cat_pip',cat_pip,cat_features)])\n",
    "        \n",
    "        return preprocessor\n",
    "    \n",
    "    def data_transformation_initiated(self,):\n",
    "\n",
    "     \n",
    "\n",
    "        train_df=pd.read_csv(self.config.train_dir)\n",
    "\n",
    "        test_df=pd.read_csv(self.config.test_dir)\n",
    "\n",
    "        train_df.dropna()  #dropping the null values\n",
    "\n",
    "        test_df.dropna() #dropping the null values\n",
    "\n",
    "        train_df.drop(['zipcode','date','credit_card'],axis=1,inplace=True)\n",
    "\n",
    "        test_df.drop(['zipcode','date','credit_card'],axis=1,inplace=True)\n",
    "\n",
    "        target_feature=['Is_fraud']\n",
    "\n",
    "        x_train,y_train,x_test,y_test = (train_df.iloc[:,:-1],train_df[target_feature],test_df.iloc[:,:-1],test_df[target_feature])\n",
    "        \n",
    "        print(x_train.shape)\n",
    "        print(y_train.shape)\n",
    "        preprocessor= self.get_the_data_transformation()\n",
    "\n",
    "\n",
    "        x_train=preprocessor.fit_transform(x_train)\n",
    "\n",
    "        x_test= preprocessor.transform(x_test)\n",
    "\n",
    "\n",
    "\n",
    "        x_train=x_train.toarray() #convert to array from sparse matrix\n",
    "\n",
    "        x_test= x_test.toarray() #convert to array from sparse matrix\n",
    "\n",
    "        save_model(filepath=self.config.processor_dir,obj=preprocessor)\n",
    "\n",
    "        return(x_train,y_train,x_test,y_test)"
   ]
  },
  {
   "cell_type": "code",
   "execution_count": 20,
   "metadata": {},
   "outputs": [
    {
     "name": "stdout",
     "output_type": "stream",
     "text": [
      "[2023-08-30 15:06:51,812: INFO: commmon: file created]\n",
      "[2023-08-30 15:06:51,812: INFO: commmon: file created]\n",
      "(235670, 6)\n",
      "(235670, 1)\n",
      "(235670, 163)\n",
      "(58918, 163)\n",
      "(58918, 1)\n",
      "(235670, 1)\n"
     ]
    }
   ],
   "source": [
    "\n",
    "try:\n",
    "    data_transformation=Confuguration()\n",
    "\n",
    "    config=data_transformation.data_transformation_config()\n",
    "\n",
    "    data_transformation=DataTransformation(config)\n",
    "\n",
    "    x_train,y_train,x_test,y_test=data_transformation.data_transformation_initiated()\n",
    "\n",
    "    \n",
    "except Exception as e:\n",
    "    raise e\n"
   ]
  }
 ],
 "metadata": {
  "kernelspec": {
   "display_name": "Python 3",
   "language": "python",
   "name": "python3"
  },
  "language_info": {
   "codemirror_mode": {
    "name": "ipython",
    "version": 3
   },
   "file_extension": ".py",
   "mimetype": "text/x-python",
   "name": "python",
   "nbconvert_exporter": "python",
   "pygments_lexer": "ipython3",
   "version": "3.8.0"
  },
  "orig_nbformat": 4
 },
 "nbformat": 4,
 "nbformat_minor": 2
}
